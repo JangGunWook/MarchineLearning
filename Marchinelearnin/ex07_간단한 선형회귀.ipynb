{
 "cells": [
  {
   "cell_type": "markdown",
   "metadata": {},
   "source": [
    "### 선형회귀 이해하기"
   ]
  },
  {
   "cell_type": "markdown",
   "metadata": {},
   "source": [
    "- 성적데이터를 기반으로 선형회귀를 이해해보자"
   ]
  },
  {
   "cell_type": "code",
   "execution_count": 1,
   "metadata": {},
   "outputs": [],
   "source": [
    "# 성적데이터 생성을 위한 라이브러리 꺼내오기\n",
    "import pandas as pd\n",
    "import matplotlib. pyplot as plt"
   ]
  },
  {
   "cell_type": "code",
   "execution_count": 2,
   "metadata": {},
   "outputs": [],
   "source": [
    "# 성적데이터 생성\n",
    "data = pd.DataFrame([[2,20,],[4,40],[8,80],[9,90]],\n",
    "             index=['현석', '준희','강련','찬홍'],\n",
    "             columns=['시간', '성적'])\n"
   ]
  },
  {
   "cell_type": "markdown",
   "metadata": {},
   "source": [
    "### MSE가 최소가 되는 최적의 w,b를 찾는 방법\n",
    "    - MSE : 평균제공오차(Mean Squered Error) ---> 비용함수(cost)\n",
    "    - 1. 수학 공식을 이용한 해석적 모델\n",
    "    - 2. 경사하강법(XGBoost에서 오차를 계산하는 방법)"
   ]
  },
  {
   "cell_type": "markdown",
   "metadata": {},
   "source": [
    "#### 수학공식을 이용한 해석적 모델\n",
    "    - LinearRegression\n",
    "    - 공식을 이용해서 적은 계산을 한번에 최적의 선형함수를 찾는 방법\n",
    "    - 공식이 완벽하지 않을 경우 잘 못찾을 수도 있고,\n",
    "    - 공식이 잘못되었더라도 고칠수 없다는 문제가 있음 ==> 규제를 접목 개선"
   ]
  },
  {
   "cell_type": "code",
   "execution_count": 3,
   "metadata": {},
   "outputs": [
    {
     "data": {
      "text/html": [
       "<style>#sk-container-id-1 {color: black;}#sk-container-id-1 pre{padding: 0;}#sk-container-id-1 div.sk-toggleable {background-color: white;}#sk-container-id-1 label.sk-toggleable__label {cursor: pointer;display: block;width: 100%;margin-bottom: 0;padding: 0.3em;box-sizing: border-box;text-align: center;}#sk-container-id-1 label.sk-toggleable__label-arrow:before {content: \"▸\";float: left;margin-right: 0.25em;color: #696969;}#sk-container-id-1 label.sk-toggleable__label-arrow:hover:before {color: black;}#sk-container-id-1 div.sk-estimator:hover label.sk-toggleable__label-arrow:before {color: black;}#sk-container-id-1 div.sk-toggleable__content {max-height: 0;max-width: 0;overflow: hidden;text-align: left;background-color: #f0f8ff;}#sk-container-id-1 div.sk-toggleable__content pre {margin: 0.2em;color: black;border-radius: 0.25em;background-color: #f0f8ff;}#sk-container-id-1 input.sk-toggleable__control:checked~div.sk-toggleable__content {max-height: 200px;max-width: 100%;overflow: auto;}#sk-container-id-1 input.sk-toggleable__control:checked~label.sk-toggleable__label-arrow:before {content: \"▾\";}#sk-container-id-1 div.sk-estimator input.sk-toggleable__control:checked~label.sk-toggleable__label {background-color: #d4ebff;}#sk-container-id-1 div.sk-label input.sk-toggleable__control:checked~label.sk-toggleable__label {background-color: #d4ebff;}#sk-container-id-1 input.sk-hidden--visually {border: 0;clip: rect(1px 1px 1px 1px);clip: rect(1px, 1px, 1px, 1px);height: 1px;margin: -1px;overflow: hidden;padding: 0;position: absolute;width: 1px;}#sk-container-id-1 div.sk-estimator {font-family: monospace;background-color: #f0f8ff;border: 1px dotted black;border-radius: 0.25em;box-sizing: border-box;margin-bottom: 0.5em;}#sk-container-id-1 div.sk-estimator:hover {background-color: #d4ebff;}#sk-container-id-1 div.sk-parallel-item::after {content: \"\";width: 100%;border-bottom: 1px solid gray;flex-grow: 1;}#sk-container-id-1 div.sk-label:hover label.sk-toggleable__label {background-color: #d4ebff;}#sk-container-id-1 div.sk-serial::before {content: \"\";position: absolute;border-left: 1px solid gray;box-sizing: border-box;top: 0;bottom: 0;left: 50%;z-index: 0;}#sk-container-id-1 div.sk-serial {display: flex;flex-direction: column;align-items: center;background-color: white;padding-right: 0.2em;padding-left: 0.2em;position: relative;}#sk-container-id-1 div.sk-item {position: relative;z-index: 1;}#sk-container-id-1 div.sk-parallel {display: flex;align-items: stretch;justify-content: center;background-color: white;position: relative;}#sk-container-id-1 div.sk-item::before, #sk-container-id-1 div.sk-parallel-item::before {content: \"\";position: absolute;border-left: 1px solid gray;box-sizing: border-box;top: 0;bottom: 0;left: 50%;z-index: -1;}#sk-container-id-1 div.sk-parallel-item {display: flex;flex-direction: column;z-index: 1;position: relative;background-color: white;}#sk-container-id-1 div.sk-parallel-item:first-child::after {align-self: flex-end;width: 50%;}#sk-container-id-1 div.sk-parallel-item:last-child::after {align-self: flex-start;width: 50%;}#sk-container-id-1 div.sk-parallel-item:only-child::after {width: 0;}#sk-container-id-1 div.sk-dashed-wrapped {border: 1px dashed gray;margin: 0 0.4em 0.5em 0.4em;box-sizing: border-box;padding-bottom: 0.4em;background-color: white;}#sk-container-id-1 div.sk-label label {font-family: monospace;font-weight: bold;display: inline-block;line-height: 1.2em;}#sk-container-id-1 div.sk-label-container {text-align: center;}#sk-container-id-1 div.sk-container {/* jupyter's `normalize.less` sets `[hidden] { display: none; }` but bootstrap.min.css set `[hidden] { display: none !important; }` so we also need the `!important` here to be able to override the default hidden behavior on the sphinx rendered scikit-learn.org. See: https://github.com/scikit-learn/scikit-learn/issues/21755 */display: inline-block !important;position: relative;}#sk-container-id-1 div.sk-text-repr-fallback {display: none;}</style><div id=\"sk-container-id-1\" class=\"sk-top-container\"><div class=\"sk-text-repr-fallback\"><pre>LinearRegression()</pre><b>In a Jupyter environment, please rerun this cell to show the HTML representation or trust the notebook. <br />On GitHub, the HTML representation is unable to render, please try loading this page with nbviewer.org.</b></div><div class=\"sk-container\" hidden><div class=\"sk-item\"><div class=\"sk-estimator sk-toggleable\"><input class=\"sk-toggleable__control sk-hidden--visually\" id=\"sk-estimator-id-1\" type=\"checkbox\" checked><label for=\"sk-estimator-id-1\" class=\"sk-toggleable__label sk-toggleable__label-arrow\">LinearRegression</label><div class=\"sk-toggleable__content\"><pre>LinearRegression()</pre></div></div></div></div></div>"
      ],
      "text/plain": [
       "LinearRegression()"
      ]
     },
     "execution_count": 3,
     "metadata": {},
     "output_type": "execute_result"
    }
   ],
   "source": [
    "from sklearn.linear_model import LinearRegression\n",
    "\n",
    "# 모델 생성 및 하이퍼파라미터 설정\n",
    "linear_model = LinearRegression()\n",
    "\n",
    "# 학습\n",
    "linear_model.fit(data[['시간']], data['성적'])  # 문제 : 2차원, 정답 : 1차원\n"
   ]
  },
  {
   "cell_type": "markdown",
   "metadata": {},
   "source": [
    "### y = wx + b(1개의 문제)"
   ]
  },
  {
   "cell_type": "code",
   "execution_count": 4,
   "metadata": {},
   "outputs": [
    {
     "data": {
      "text/plain": [
       "'기울기, 가중치 : '"
      ]
     },
     "metadata": {},
     "output_type": "display_data"
    },
    {
     "data": {
      "text/plain": [
       "array([10.])"
      ]
     },
     "metadata": {},
     "output_type": "display_data"
    },
    {
     "data": {
      "text/plain": [
       "'절편, 편향 : '"
      ]
     },
     "metadata": {},
     "output_type": "display_data"
    },
    {
     "data": {
      "text/plain": [
       "7.105427357601002e-15"
      ]
     },
     "metadata": {},
     "output_type": "display_data"
    }
   ],
   "source": [
    "# w : 기울기, 가중치 \n",
    "display('기울기, 가중치 : ', linear_model.coef_)\n",
    "\n",
    "# b : 절편, 편향\n",
    "display('절편, 편향 : ', linear_model.intercept_)\n"
   ]
  },
  {
   "cell_type": "code",
   "execution_count": 5,
   "metadata": {},
   "outputs": [
    {
     "name": "stderr",
     "output_type": "stream",
     "text": [
      "c:\\Users\\smhrd\\AppData\\Local\\Programs\\Python\\Python311\\Lib\\site-packages\\sklearn\\base.py:465: UserWarning: X does not have valid feature names, but LinearRegression was fitted with feature names\n",
      "  warnings.warn(\n"
     ]
    },
    {
     "data": {
      "text/plain": [
       "array([70.])"
      ]
     },
     "execution_count": 5,
     "metadata": {},
     "output_type": "execute_result"
    }
   ],
   "source": [
    "# 나행씨가 7시간 공부햇을때 몇 점?\n",
    "linear_model.predict([[7]])"
   ]
  },
  {
   "cell_type": "markdown",
   "metadata": {},
   "source": [
    "#### H(x)\n",
    "    - 가설함수"
   ]
  },
  {
   "cell_type": "code",
   "execution_count": 6,
   "metadata": {},
   "outputs": [],
   "source": [
    "# 함수 정의\n",
    "def h(w,x):\n",
    "    return w*x+0\n",
    "\n",
    "    "
   ]
  },
  {
   "cell_type": "markdown",
   "metadata": {},
   "source": [
    "#### 비용함수(cost function) 정의\n",
    "    - 비용 = 오차"
   ]
  },
  {
   "cell_type": "code",
   "execution_count": 7,
   "metadata": {},
   "outputs": [],
   "source": [
    "# 비용함수 정의\n",
    "# data : 문제\n",
    "# target : 정답(실제 값)\n",
    "# weight : 가중치\n",
    "\n",
    "def cost(data, target, weight):\n",
    "    # 예측값\n",
    "    y_pre = h(weight,data)\n",
    "    # 평균제곱오차 = ((예측값 - 실제값)  **2).mean()\n",
    "    error = ((y_pre-target)**2).mean()\n",
    "    return error\n",
    "\n",
    "    "
   ]
  },
  {
   "cell_type": "code",
   "execution_count": 8,
   "metadata": {},
   "outputs": [
    {
     "data": {
      "text/plain": [
       "1031.25"
      ]
     },
     "execution_count": 8,
     "metadata": {},
     "output_type": "execute_result"
    }
   ],
   "source": [
    "# 가중치에 따른 오차값 확인\n",
    "cost(data['시간'], data['성적'],5)"
   ]
  },
  {
   "cell_type": "code",
   "execution_count": 9,
   "metadata": {},
   "outputs": [
    {
     "data": {
      "text/plain": [
       "165.0"
      ]
     },
     "execution_count": 9,
     "metadata": {},
     "output_type": "execute_result"
    }
   ],
   "source": [
    "cost(data['시간'], data['성적'],8)"
   ]
  },
  {
   "cell_type": "code",
   "execution_count": 10,
   "metadata": {},
   "outputs": [
    {
     "data": {
      "text/plain": [
       "0.0"
      ]
     },
     "execution_count": 10,
     "metadata": {},
     "output_type": "execute_result"
    }
   ],
   "source": [
    "cost(data['시간'], data['성적'],10)"
   ]
  },
  {
   "cell_type": "code",
   "execution_count": 11,
   "metadata": {},
   "outputs": [
    {
     "data": {
      "text/plain": [
       "[3341.25,\n",
       " 2640.0,\n",
       " 2021.25,\n",
       " 1485.0,\n",
       " 1031.25,\n",
       " 660.0,\n",
       " 371.25,\n",
       " 165.0,\n",
       " 41.25,\n",
       " 0.0,\n",
       " 41.25,\n",
       " 165.0,\n",
       " 371.25,\n",
       " 660.0,\n",
       " 1031.25,\n",
       " 1485.0,\n",
       " 2021.25,\n",
       " 2640.0,\n",
       " 3341.25]"
      ]
     },
     "execution_count": 11,
     "metadata": {},
     "output_type": "execute_result"
    }
   ],
   "source": [
    "# 가중치 변화에 따른 비용함수의 변화를 그래프로 그려보기\n",
    "cost_list = [] # 가중치 변화에 따른 평균제곱 오차값 리스트\n",
    "\n",
    "for i in range(1,20):\n",
    "    err = cost(data['시간'], data['성적'],i)\n",
    "    cost_list.append(err)\n",
    "\n",
    "cost_list"
   ]
  },
  {
   "cell_type": "code",
   "execution_count": 12,
   "metadata": {},
   "outputs": [
    {
     "data": {
      "text/plain": [
       "[<matplotlib.lines.Line2D at 0x16a4b8a87d0>]"
      ]
     },
     "execution_count": 12,
     "metadata": {},
     "output_type": "execute_result"
    },
    {
     "data": {
      "image/png": "[encoded data removed]",
      "text/plain": [
       "<Figure size 640x480 with 1 Axes>"
      ]
     },
     "metadata": {},
     "output_type": "display_data"
    }
   ],
   "source": [
    "# 비용함수(MSE) 그래프로 그리기\n",
    "plt.plot(range(1,20), cost_list)\n"
   ]
  },
  {
   "cell_type": "code",
   "execution_count": 13,
   "metadata": {},
   "outputs": [
    {
     "data": {
      "text/plain": [
       "1.0"
      ]
     },
     "execution_count": 13,
     "metadata": {},
     "output_type": "execute_result"
    }
   ],
   "source": [
    "linear_model.score(data[['시간']],data['성적'])\n",
    "\n",
    "# 분류모델에서의 score ==> 정확도\n",
    "# 회귀모델에서의 score ==> 유사도(MSE를 기반으로한 R^2score)"
   ]
  },
  {
   "cell_type": "markdown",
   "metadata": {},
   "source": [
    "### 경사하강법\n",
    "    - SGDRegressor\n",
    "    - 점진적으로 오차가 작은 선형함수를 찾아가는 방법\n",
    "    - 오차를 수정하는 방향으로 그래프를 다시 그려줌\n",
    "    - 선형함수를 잘못 찾았을 경우 수정이 가능\n",
    "    - 점진적으로 찾아가므로 계산량이 많아서 시간이 오래걸림"
   ]
  },
  {
   "cell_type": "code",
   "execution_count": 14,
   "metadata": {},
   "outputs": [
    {
     "name": "stdout",
     "output_type": "stream",
     "text": [
      "-- Epoch 1\n",
      "Norm: 1.20, NNZs: 1, Bias: 0.175382, T: 4, Avg. loss: 1895.532670\n",
      "Total training time: 0.00 seconds.\n",
      "-- Epoch 2\n",
      "Norm: 2.06, NNZs: 1, Bias: 0.296417, T: 8, Avg. loss: 1490.061601\n",
      "Total training time: 0.00 seconds.\n",
      "-- Epoch 3\n",
      "Norm: 2.75, NNZs: 1, Bias: 0.394038, T: 12, Avg. loss: 1217.312314\n",
      "Total training time: 0.00 seconds.\n",
      "-- Epoch 4\n",
      "Norm: 3.33, NNZs: 1, Bias: 0.476212, T: 16, Avg. loss: 1014.163223\n",
      "Total training time: 0.00 seconds.\n",
      "-- Epoch 5\n",
      "Norm: 3.84, NNZs: 1, Bias: 0.547347, T: 20, Avg. loss: 855.544259\n",
      "Total training time: 0.00 seconds.\n",
      "-- Epoch 6\n",
      "Norm: 4.29, NNZs: 1, Bias: 0.609813, T: 24, Avg. loss: 728.488493\n",
      "Total training time: 0.00 seconds.\n",
      "-- Epoch 7\n",
      "Norm: 4.69, NNZs: 1, Bias: 0.665369, T: 28, Avg. loss: 624.712183\n",
      "Total training time: 0.00 seconds.\n",
      "-- Epoch 8\n",
      "Norm: 5.04, NNZs: 1, Bias: 0.715148, T: 32, Avg. loss: 538.881581\n",
      "Total training time: 0.00 seconds.\n",
      "-- Epoch 9\n",
      "Norm: 5.36, NNZs: 1, Bias: 0.760086, T: 36, Avg. loss: 467.085168\n",
      "Total training time: 0.00 seconds.\n",
      "-- Epoch 10\n",
      "Norm: 5.66, NNZs: 1, Bias: 0.800844, T: 40, Avg. loss: 406.563932\n",
      "Total training time: 0.00 seconds.\n",
      "-- Epoch 11\n",
      "Norm: 5.92, NNZs: 1, Bias: 0.837997, T: 44, Avg. loss: 355.155245\n",
      "Total training time: 0.00 seconds.\n",
      "-- Epoch 12\n",
      "Norm: 6.17, NNZs: 1, Bias: 0.871975, T: 48, Avg. loss: 311.253782\n",
      "Total training time: 0.00 seconds.\n",
      "-- Epoch 13\n",
      "Norm: 6.39, NNZs: 1, Bias: 0.903162, T: 52, Avg. loss: 273.551242\n",
      "Total training time: 0.00 seconds.\n",
      "-- Epoch 14\n",
      "Norm: 6.60, NNZs: 1, Bias: 0.931857, T: 56, Avg. loss: 241.043725\n",
      "Total training time: 0.00 seconds.\n",
      "-- Epoch 15\n",
      "Norm: 6.79, NNZs: 1, Bias: 0.958333, T: 60, Avg. loss: 212.892029\n",
      "Total training time: 0.00 seconds.\n",
      "-- Epoch 16\n",
      "Norm: 6.97, NNZs: 1, Bias: 0.982809, T: 64, Avg. loss: 188.436826\n",
      "Total training time: 0.00 seconds.\n",
      "-- Epoch 17\n",
      "Norm: 7.13, NNZs: 1, Bias: 1.005483, T: 68, Avg. loss: 167.117076\n",
      "Total training time: 0.00 seconds.\n",
      "-- Epoch 18\n",
      "Norm: 7.28, NNZs: 1, Bias: 1.026524, T: 72, Avg. loss: 148.484038\n",
      "Total training time: 0.00 seconds.\n",
      "-- Epoch 19\n",
      "Norm: 7.43, NNZs: 1, Bias: 1.046082, T: 76, Avg. loss: 132.150854\n",
      "Total training time: 0.00 seconds.\n",
      "-- Epoch 20\n",
      "Norm: 7.56, NNZs: 1, Bias: 1.064286, T: 80, Avg. loss: 117.803678\n",
      "Total training time: 0.00 seconds.\n",
      "-- Epoch 21\n",
      "Norm: 7.68, NNZs: 1, Bias: 1.081254, T: 84, Avg. loss: 105.169247\n",
      "Total training time: 0.00 seconds.\n",
      "-- Epoch 22\n",
      "Norm: 7.80, NNZs: 1, Bias: 1.097089, T: 88, Avg. loss: 94.023279\n",
      "Total training time: 0.00 seconds.\n",
      "-- Epoch 23\n",
      "Norm: 7.90, NNZs: 1, Bias: 1.111882, T: 92, Avg. loss: 84.168974\n",
      "Total training time: 0.00 seconds.\n",
      "-- Epoch 24\n",
      "Norm: 8.00, NNZs: 1, Bias: 1.125718, T: 96, Avg. loss: 75.443208\n",
      "Total training time: 0.00 seconds.\n",
      "-- Epoch 25\n",
      "Norm: 8.10, NNZs: 1, Bias: 1.138669, T: 100, Avg. loss: 67.701968\n",
      "Total training time: 0.00 seconds.\n",
      "-- Epoch 26\n",
      "Norm: 8.19, NNZs: 1, Bias: 1.150805, T: 104, Avg. loss: 60.824866\n",
      "Total training time: 0.00 seconds.\n",
      "-- Epoch 27\n",
      "Norm: 8.27, NNZs: 1, Bias: 1.162186, T: 108, Avg. loss: 54.705087\n",
      "Total training time: 0.00 seconds.\n",
      "-- Epoch 28\n",
      "Norm: 8.35, NNZs: 1, Bias: 1.172867, T: 112, Avg. loss: 49.252672\n",
      "Total training time: 0.00 seconds.\n",
      "-- Epoch 29\n",
      "Norm: 8.42, NNZs: 1, Bias: 1.182897, T: 116, Avg. loss: 44.387483\n",
      "Total training time: 0.00 seconds.\n",
      "-- Epoch 30\n",
      "Norm: 8.49, NNZs: 1, Bias: 1.192326, T: 120, Avg. loss: 40.041574\n",
      "Total training time: 0.00 seconds.\n",
      "-- Epoch 31\n",
      "Norm: 8.56, NNZs: 1, Bias: 1.201192, T: 124, Avg. loss: 36.154220\n",
      "Total training time: 0.00 seconds.\n",
      "-- Epoch 32\n",
      "Norm: 8.62, NNZs: 1, Bias: 1.209535, T: 128, Avg. loss: 32.673618\n",
      "Total training time: 0.00 seconds.\n",
      "-- Epoch 33\n",
      "Norm: 8.68, NNZs: 1, Bias: 1.217391, T: 132, Avg. loss: 29.553354\n",
      "Total training time: 0.00 seconds.\n",
      "-- Epoch 34\n",
      "Norm: 8.73, NNZs: 1, Bias: 1.224791, T: 136, Avg. loss: 26.753602\n",
      "Total training time: 0.00 seconds.\n",
      "-- Epoch 35\n",
      "Norm: 8.78, NNZs: 1, Bias: 1.231766, T: 140, Avg. loss: 24.238610\n",
      "Total training time: 0.00 seconds.\n",
      "-- Epoch 36\n",
      "Norm: 8.83, NNZs: 1, Bias: 1.238344, T: 144, Avg. loss: 21.977539\n",
      "Total training time: 0.00 seconds.\n",
      "-- Epoch 37\n",
      "Norm: 8.88, NNZs: 1, Bias: 1.244549, T: 148, Avg. loss: 19.942656\n",
      "Total training time: 0.00 seconds.\n",
      "-- Epoch 38\n",
      "Norm: 8.92, NNZs: 1, Bias: 1.250405, T: 152, Avg. loss: 18.109920\n",
      "Total training time: 0.00 seconds.\n",
      "-- Epoch 39\n",
      "Norm: 8.97, NNZs: 1, Bias: 1.255934, T: 156, Avg. loss: 16.457689\n",
      "Total training time: 0.00 seconds.\n",
      "-- Epoch 40\n",
      "Norm: 9.01, NNZs: 1, Bias: 1.261156, T: 160, Avg. loss: 14.967109\n",
      "Total training time: 0.00 seconds.\n",
      "-- Epoch 41\n",
      "Norm: 9.04, NNZs: 1, Bias: 1.266090, T: 164, Avg. loss: 13.621193\n",
      "Total training time: 0.00 seconds.\n",
      "-- Epoch 42\n",
      "Norm: 9.08, NNZs: 1, Bias: 1.270753, T: 168, Avg. loss: 12.405076\n",
      "Total training time: 0.00 seconds.\n",
      "-- Epoch 43\n",
      "Norm: 9.11, NNZs: 1, Bias: 1.275162, T: 172, Avg. loss: 11.305357\n",
      "Total training time: 0.00 seconds.\n",
      "-- Epoch 44\n",
      "Norm: 9.14, NNZs: 1, Bias: 1.279331, T: 176, Avg. loss: 10.310256\n",
      "Total training time: 0.00 seconds.\n",
      "-- Epoch 45\n",
      "Norm: 9.17, NNZs: 1, Bias: 1.283274, T: 180, Avg. loss: 9.409152\n",
      "Total training time: 0.00 seconds.\n",
      "-- Epoch 46\n",
      "Norm: 9.20, NNZs: 1, Bias: 1.287005, T: 184, Avg. loss: 8.592665\n",
      "Total training time: 0.00 seconds.\n",
      "-- Epoch 47\n",
      "Norm: 9.23, NNZs: 1, Bias: 1.290536, T: 188, Avg. loss: 7.852344\n",
      "Total training time: 0.00 seconds.\n",
      "-- Epoch 48\n",
      "Norm: 9.26, NNZs: 1, Bias: 1.293878, T: 192, Avg. loss: 7.180688\n",
      "Total training time: 0.00 seconds.\n",
      "-- Epoch 49\n",
      "Norm: 9.28, NNZs: 1, Bias: 1.297042, T: 196, Avg. loss: 6.570943\n",
      "Total training time: 0.00 seconds.\n",
      "-- Epoch 50\n",
      "Norm: 9.30, NNZs: 1, Bias: 1.300038, T: 200, Avg. loss: 6.017088\n",
      "Total training time: 0.00 seconds.\n",
      "-- Epoch 51\n",
      "Norm: 9.33, NNZs: 1, Bias: 1.302874, T: 204, Avg. loss: 5.513708\n",
      "Total training time: 0.00 seconds.\n",
      "-- Epoch 52\n",
      "Norm: 9.35, NNZs: 1, Bias: 1.305561, T: 208, Avg. loss: 5.055950\n",
      "Total training time: 0.00 seconds.\n",
      "-- Epoch 53\n",
      "Norm: 9.37, NNZs: 1, Bias: 1.308106, T: 212, Avg. loss: 4.639457\n",
      "Total training time: 0.00 seconds.\n",
      "-- Epoch 54\n",
      "Norm: 9.39, NNZs: 1, Bias: 1.310517, T: 216, Avg. loss: 4.260304\n",
      "Total training time: 0.00 seconds.\n",
      "-- Epoch 55\n",
      "Norm: 9.40, NNZs: 1, Bias: 1.312800, T: 220, Avg. loss: 3.914974\n",
      "Total training time: 0.00 seconds.\n",
      "-- Epoch 56\n",
      "Norm: 9.42, NNZs: 1, Bias: 1.314964, T: 224, Avg. loss: 3.600285\n",
      "Total training time: 0.00 seconds.\n",
      "-- Epoch 57\n",
      "Norm: 9.44, NNZs: 1, Bias: 1.317013, T: 228, Avg. loss: 3.313387\n",
      "Total training time: 0.00 seconds.\n",
      "-- Epoch 58\n",
      "Norm: 9.45, NNZs: 1, Bias: 1.318956, T: 232, Avg. loss: 3.051692\n",
      "Total training time: 0.00 seconds.\n",
      "-- Epoch 59\n",
      "Norm: 9.47, NNZs: 1, Bias: 1.320795, T: 236, Avg. loss: 2.812887\n",
      "Total training time: 0.00 seconds.\n",
      "-- Epoch 60\n",
      "Norm: 9.48, NNZs: 1, Bias: 1.322538, T: 240, Avg. loss: 2.594857\n",
      "Total training time: 0.00 seconds.\n",
      "-- Epoch 61\n",
      "Norm: 9.50, NNZs: 1, Bias: 1.324190, T: 244, Avg. loss: 2.395722\n",
      "Total training time: 0.00 seconds.\n",
      "-- Epoch 62\n",
      "Norm: 9.51, NNZs: 1, Bias: 1.325754, T: 248, Avg. loss: 2.213751\n",
      "Total training time: 0.00 seconds.\n",
      "-- Epoch 63\n",
      "Norm: 9.52, NNZs: 1, Bias: 1.327235, T: 252, Avg. loss: 2.047409\n",
      "Total training time: 0.00 seconds.\n",
      "-- Epoch 64\n",
      "Norm: 9.53, NNZs: 1, Bias: 1.328638, T: 256, Avg. loss: 1.895275\n",
      "Total training time: 0.00 seconds.\n",
      "-- Epoch 65\n",
      "Norm: 9.55, NNZs: 1, Bias: 1.329967, T: 260, Avg. loss: 1.756096\n",
      "Total training time: 0.00 seconds.\n",
      "-- Epoch 66\n",
      "Norm: 9.56, NNZs: 1, Bias: 1.331225, T: 264, Avg. loss: 1.628701\n",
      "Total training time: 0.00 seconds.\n",
      "-- Epoch 67\n",
      "Norm: 9.57, NNZs: 1, Bias: 1.332415, T: 268, Avg. loss: 1.512064\n",
      "Total training time: 0.00 seconds.\n",
      "-- Epoch 68\n",
      "Norm: 9.58, NNZs: 1, Bias: 1.333542, T: 272, Avg. loss: 1.405219\n",
      "Total training time: 0.00 seconds.\n",
      "-- Epoch 69\n",
      "Norm: 9.59, NNZs: 1, Bias: 1.334608, T: 276, Avg. loss: 1.307324\n",
      "Total training time: 0.00 seconds.\n",
      "-- Epoch 70\n",
      "Norm: 9.60, NNZs: 1, Bias: 1.335617, T: 280, Avg. loss: 1.217581\n",
      "Total training time: 0.00 seconds.\n",
      "-- Epoch 71\n",
      "Norm: 9.60, NNZs: 1, Bias: 1.336570, T: 284, Avg. loss: 1.135297\n",
      "Total training time: 0.00 seconds.\n",
      "-- Epoch 72\n",
      "Norm: 9.61, NNZs: 1, Bias: 1.337472, T: 288, Avg. loss: 1.059809\n",
      "Total training time: 0.00 seconds.\n",
      "-- Epoch 73\n",
      "Norm: 9.62, NNZs: 1, Bias: 1.338323, T: 292, Avg. loss: 0.990548\n",
      "Total training time: 0.00 seconds.\n",
      "-- Epoch 74\n",
      "Norm: 9.63, NNZs: 1, Bias: 1.339128, T: 296, Avg. loss: 0.926963\n",
      "Total training time: 0.00 seconds.\n",
      "-- Epoch 75\n",
      "Norm: 9.64, NNZs: 1, Bias: 1.339887, T: 300, Avg. loss: 0.868585\n",
      "Total training time: 0.00 seconds.\n",
      "-- Epoch 76\n",
      "Norm: 9.64, NNZs: 1, Bias: 1.340603, T: 304, Avg. loss: 0.814955\n",
      "Total training time: 0.00 seconds.\n",
      "-- Epoch 77\n",
      "Norm: 9.65, NNZs: 1, Bias: 1.341279, T: 308, Avg. loss: 0.765685\n",
      "Total training time: 0.00 seconds.\n",
      "-- Epoch 78\n",
      "Norm: 9.66, NNZs: 1, Bias: 1.341915, T: 312, Avg. loss: 0.720392\n",
      "Total training time: 0.00 seconds.\n",
      "-- Epoch 79\n",
      "Norm: 9.66, NNZs: 1, Bias: 1.342515, T: 316, Avg. loss: 0.678756\n",
      "Total training time: 0.00 seconds.\n",
      "-- Epoch 80\n",
      "Norm: 9.67, NNZs: 1, Bias: 1.343079, T: 320, Avg. loss: 0.640457\n",
      "Total training time: 0.00 seconds.\n",
      "-- Epoch 81\n",
      "Norm: 9.67, NNZs: 1, Bias: 1.343610, T: 324, Avg. loss: 0.605229\n",
      "Total training time: 0.00 seconds.\n",
      "-- Epoch 82\n",
      "Norm: 9.68, NNZs: 1, Bias: 1.344108, T: 328, Avg. loss: 0.572803\n",
      "Total training time: 0.00 seconds.\n",
      "-- Epoch 83\n",
      "Norm: 9.68, NNZs: 1, Bias: 1.344576, T: 332, Avg. loss: 0.542961\n",
      "Total training time: 0.00 seconds.\n",
      "-- Epoch 84\n",
      "Norm: 9.69, NNZs: 1, Bias: 1.345015, T: 336, Avg. loss: 0.515476\n",
      "Total training time: 0.00 seconds.\n",
      "-- Epoch 85\n",
      "Norm: 9.69, NNZs: 1, Bias: 1.345425, T: 340, Avg. loss: 0.490167\n",
      "Total training time: 0.00 seconds.\n",
      "-- Epoch 86\n",
      "Norm: 9.70, NNZs: 1, Bias: 1.345810, T: 344, Avg. loss: 0.466843\n",
      "Total training time: 0.00 seconds.\n",
      "-- Epoch 87\n",
      "Norm: 9.70, NNZs: 1, Bias: 1.346168, T: 348, Avg. loss: 0.445354\n",
      "Total training time: 0.00 seconds.\n",
      "-- Epoch 88\n",
      "Norm: 9.71, NNZs: 1, Bias: 1.346503, T: 352, Avg. loss: 0.425538\n",
      "Total training time: 0.00 seconds.\n",
      "-- Epoch 89\n",
      "Norm: 9.71, NNZs: 1, Bias: 1.346814, T: 356, Avg. loss: 0.407272\n",
      "Total training time: 0.00 seconds.\n",
      "-- Epoch 90\n",
      "Norm: 9.71, NNZs: 1, Bias: 1.347104, T: 360, Avg. loss: 0.390418\n",
      "Total training time: 0.00 seconds.\n",
      "-- Epoch 91\n",
      "Norm: 9.72, NNZs: 1, Bias: 1.347372, T: 364, Avg. loss: 0.374875\n",
      "Total training time: 0.00 seconds.\n",
      "-- Epoch 92\n",
      "Norm: 9.72, NNZs: 1, Bias: 1.347621, T: 368, Avg. loss: 0.360525\n",
      "Total training time: 0.00 seconds.\n",
      "-- Epoch 93\n",
      "Norm: 9.73, NNZs: 1, Bias: 1.347850, T: 372, Avg. loss: 0.347285\n",
      "Total training time: 0.00 seconds.\n",
      "-- Epoch 94\n",
      "Norm: 9.73, NNZs: 1, Bias: 1.348060, T: 376, Avg. loss: 0.335054\n",
      "Total training time: 0.00 seconds.\n",
      "-- Epoch 95\n",
      "Norm: 9.73, NNZs: 1, Bias: 1.348254, T: 380, Avg. loss: 0.323762\n",
      "Total training time: 0.00 seconds.\n",
      "-- Epoch 96\n",
      "Norm: 9.73, NNZs: 1, Bias: 1.348430, T: 384, Avg. loss: 0.313326\n",
      "Total training time: 0.00 seconds.\n",
      "-- Epoch 97\n",
      "Norm: 9.74, NNZs: 1, Bias: 1.348590, T: 388, Avg. loss: 0.303688\n",
      "Total training time: 0.00 seconds.\n",
      "-- Epoch 98\n",
      "Norm: 9.74, NNZs: 1, Bias: 1.348736, T: 392, Avg. loss: 0.294774\n",
      "Total training time: 0.00 seconds.\n",
      "-- Epoch 99\n",
      "Norm: 9.74, NNZs: 1, Bias: 1.348866, T: 396, Avg. loss: 0.286537\n",
      "Total training time: 0.00 seconds.\n",
      "-- Epoch 100\n",
      "Norm: 9.75, NNZs: 1, Bias: 1.348983, T: 400, Avg. loss: 0.278916\n",
      "Total training time: 0.00 seconds.\n",
      "-- Epoch 101\n",
      "Norm: 9.75, NNZs: 1, Bias: 1.349086, T: 404, Avg. loss: 0.271870\n",
      "Total training time: 0.00 seconds.\n",
      "-- Epoch 102\n",
      "Norm: 9.75, NNZs: 1, Bias: 1.349176, T: 408, Avg. loss: 0.265346\n",
      "Total training time: 0.00 seconds.\n",
      "-- Epoch 103\n",
      "Norm: 9.75, NNZs: 1, Bias: 1.349254, T: 412, Avg. loss: 0.259313\n",
      "Total training time: 0.00 seconds.\n",
      "-- Epoch 104\n",
      "Norm: 9.75, NNZs: 1, Bias: 1.349321, T: 416, Avg. loss: 0.253723\n",
      "Total training time: 0.00 seconds.\n",
      "-- Epoch 105\n",
      "Norm: 9.76, NNZs: 1, Bias: 1.349376, T: 420, Avg. loss: 0.248551\n",
      "Total training time: 0.00 seconds.\n",
      "-- Epoch 106\n",
      "Norm: 9.76, NNZs: 1, Bias: 1.349420, T: 424, Avg. loss: 0.243757\n",
      "Total training time: 0.00 seconds.\n",
      "-- Epoch 107\n",
      "Norm: 9.76, NNZs: 1, Bias: 1.349455, T: 428, Avg. loss: 0.239319\n",
      "Total training time: 0.00 seconds.\n",
      "-- Epoch 108\n",
      "Norm: 9.76, NNZs: 1, Bias: 1.349479, T: 432, Avg. loss: 0.235202\n",
      "Total training time: 0.00 seconds.\n",
      "-- Epoch 109\n",
      "Norm: 9.76, NNZs: 1, Bias: 1.349494, T: 436, Avg. loss: 0.231390\n",
      "Total training time: 0.00 seconds.\n",
      "-- Epoch 110\n",
      "Norm: 9.77, NNZs: 1, Bias: 1.349500, T: 440, Avg. loss: 0.227852\n",
      "Total training time: 0.00 seconds.\n",
      "-- Epoch 111\n",
      "Norm: 9.77, NNZs: 1, Bias: 1.349498, T: 444, Avg. loss: 0.224573\n",
      "Total training time: 0.00 seconds.\n",
      "-- Epoch 112\n",
      "Norm: 9.77, NNZs: 1, Bias: 1.349487, T: 448, Avg. loss: 0.221528\n",
      "Total training time: 0.00 seconds.\n",
      "-- Epoch 113\n",
      "Norm: 9.77, NNZs: 1, Bias: 1.349469, T: 452, Avg. loss: 0.218706\n",
      "Total training time: 0.00 seconds.\n",
      "-- Epoch 114\n",
      "Norm: 9.77, NNZs: 1, Bias: 1.349443, T: 456, Avg. loss: 0.216082\n",
      "Total training time: 0.00 seconds.\n",
      "-- Epoch 115\n",
      "Norm: 9.77, NNZs: 1, Bias: 1.349410, T: 460, Avg. loss: 0.213650\n",
      "Total training time: 0.00 seconds.\n",
      "-- Epoch 116\n",
      "Norm: 9.78, NNZs: 1, Bias: 1.349370, T: 464, Avg. loss: 0.211387\n",
      "Total training time: 0.00 seconds.\n",
      "-- Epoch 117\n",
      "Norm: 9.78, NNZs: 1, Bias: 1.349323, T: 468, Avg. loss: 0.209287\n",
      "Total training time: 0.00 seconds.\n",
      "-- Epoch 118\n",
      "Norm: 9.78, NNZs: 1, Bias: 1.349270, T: 472, Avg. loss: 0.207333\n",
      "Total training time: 0.00 seconds.\n",
      "-- Epoch 119\n",
      "Norm: 9.78, NNZs: 1, Bias: 1.349211, T: 476, Avg. loss: 0.205519\n",
      "Total training time: 0.00 seconds.\n",
      "-- Epoch 120\n",
      "Norm: 9.78, NNZs: 1, Bias: 1.349146, T: 480, Avg. loss: 0.203829\n",
      "Total training time: 0.00 seconds.\n",
      "-- Epoch 121\n",
      "Norm: 9.78, NNZs: 1, Bias: 1.349076, T: 484, Avg. loss: 0.202260\n",
      "Total training time: 0.00 seconds.\n",
      "-- Epoch 122\n",
      "Norm: 9.78, NNZs: 1, Bias: 1.349000, T: 488, Avg. loss: 0.200797\n",
      "Total training time: 0.00 seconds.\n",
      "-- Epoch 123\n",
      "Norm: 9.78, NNZs: 1, Bias: 1.348919, T: 492, Avg. loss: 0.199437\n",
      "Total training time: 0.00 seconds.\n",
      "-- Epoch 124\n",
      "Norm: 9.78, NNZs: 1, Bias: 1.348834, T: 496, Avg. loss: 0.198168\n",
      "Total training time: 0.00 seconds.\n",
      "-- Epoch 125\n",
      "Norm: 9.79, NNZs: 1, Bias: 1.348744, T: 500, Avg. loss: 0.196988\n",
      "Total training time: 0.00 seconds.\n",
      "-- Epoch 126\n",
      "Norm: 9.79, NNZs: 1, Bias: 1.348649, T: 504, Avg. loss: 0.195886\n",
      "Total training time: 0.00 seconds.\n",
      "-- Epoch 127\n",
      "Norm: 9.79, NNZs: 1, Bias: 1.348550, T: 508, Avg. loss: 0.194861\n",
      "Total training time: 0.00 seconds.\n",
      "-- Epoch 128\n",
      "Norm: 9.79, NNZs: 1, Bias: 1.348447, T: 512, Avg. loss: 0.193902\n",
      "Total training time: 0.00 seconds.\n",
      "-- Epoch 129\n",
      "Norm: 9.79, NNZs: 1, Bias: 1.348340, T: 516, Avg. loss: 0.193010\n",
      "Total training time: 0.00 seconds.\n",
      "-- Epoch 130\n",
      "Norm: 9.79, NNZs: 1, Bias: 1.348229, T: 520, Avg. loss: 0.192174\n",
      "Total training time: 0.00 seconds.\n",
      "-- Epoch 131\n",
      "Norm: 9.79, NNZs: 1, Bias: 1.348115, T: 524, Avg. loss: 0.191396\n",
      "Total training time: 0.00 seconds.\n",
      "-- Epoch 132\n",
      "Norm: 9.79, NNZs: 1, Bias: 1.347997, T: 528, Avg. loss: 0.190667\n",
      "Total training time: 0.00 seconds.\n",
      "Convergence after 132 epochs took 0.00 seconds\n"
     ]
    },
    {
     "data": {
      "text/html": [
       "<style>#sk-container-id-2 {color: black;}#sk-container-id-2 pre{padding: 0;}#sk-container-id-2 div.sk-toggleable {background-color: white;}#sk-container-id-2 label.sk-toggleable__label {cursor: pointer;display: block;width: 100%;margin-bottom: 0;padding: 0.3em;box-sizing: border-box;text-align: center;}#sk-container-id-2 label.sk-toggleable__label-arrow:before {content: \"▸\";float: left;margin-right: 0.25em;color: #696969;}#sk-container-id-2 label.sk-toggleable__label-arrow:hover:before {color: black;}#sk-container-id-2 div.sk-estimator:hover label.sk-toggleable__label-arrow:before {color: black;}#sk-container-id-2 div.sk-toggleable__content {max-height: 0;max-width: 0;overflow: hidden;text-align: left;background-color: #f0f8ff;}#sk-container-id-2 div.sk-toggleable__content pre {margin: 0.2em;color: black;border-radius: 0.25em;background-color: #f0f8ff;}#sk-container-id-2 input.sk-toggleable__control:checked~div.sk-toggleable__content {max-height: 200px;max-width: 100%;overflow: auto;}#sk-container-id-2 input.sk-toggleable__control:checked~label.sk-toggleable__label-arrow:before {content: \"▾\";}#sk-container-id-2 div.sk-estimator input.sk-toggleable__control:checked~label.sk-toggleable__label {background-color: #d4ebff;}#sk-container-id-2 div.sk-label input.sk-toggleable__control:checked~label.sk-toggleable__label {background-color: #d4ebff;}#sk-container-id-2 input.sk-hidden--visually {border: 0;clip: rect(1px 1px 1px 1px);clip: rect(1px, 1px, 1px, 1px);height: 1px;margin: -1px;overflow: hidden;padding: 0;position: absolute;width: 1px;}#sk-container-id-2 div.sk-estimator {font-family: monospace;background-color: #f0f8ff;border: 1px dotted black;border-radius: 0.25em;box-sizing: border-box;margin-bottom: 0.5em;}#sk-container-id-2 div.sk-estimator:hover {background-color: #d4ebff;}#sk-container-id-2 div.sk-parallel-item::after {content: \"\";width: 100%;border-bottom: 1px solid gray;flex-grow: 1;}#sk-container-id-2 div.sk-label:hover label.sk-toggleable__label {background-color: #d4ebff;}#sk-container-id-2 div.sk-serial::before {content: \"\";position: absolute;border-left: 1px solid gray;box-sizing: border-box;top: 0;bottom: 0;left: 50%;z-index: 0;}#sk-container-id-2 div.sk-serial {display: flex;flex-direction: column;align-items: center;background-color: white;padding-right: 0.2em;padding-left: 0.2em;position: relative;}#sk-container-id-2 div.sk-item {position: relative;z-index: 1;}#sk-container-id-2 div.sk-parallel {display: flex;align-items: stretch;justify-content: center;background-color: white;position: relative;}#sk-container-id-2 div.sk-item::before, #sk-container-id-2 div.sk-parallel-item::before {content: \"\";position: absolute;border-left: 1px solid gray;box-sizing: border-box;top: 0;bottom: 0;left: 50%;z-index: -1;}#sk-container-id-2 div.sk-parallel-item {display: flex;flex-direction: column;z-index: 1;position: relative;background-color: white;}#sk-container-id-2 div.sk-parallel-item:first-child::after {align-self: flex-end;width: 50%;}#sk-container-id-2 div.sk-parallel-item:last-child::after {align-self: flex-start;width: 50%;}#sk-container-id-2 div.sk-parallel-item:only-child::after {width: 0;}#sk-container-id-2 div.sk-dashed-wrapped {border: 1px dashed gray;margin: 0 0.4em 0.5em 0.4em;box-sizing: border-box;padding-bottom: 0.4em;background-color: white;}#sk-container-id-2 div.sk-label label {font-family: monospace;font-weight: bold;display: inline-block;line-height: 1.2em;}#sk-container-id-2 div.sk-label-container {text-align: center;}#sk-container-id-2 div.sk-container {/* jupyter's `normalize.less` sets `[hidden] { display: none; }` but bootstrap.min.css set `[hidden] { display: none !important; }` so we also need the `!important` here to be able to override the default hidden behavior on the sphinx rendered scikit-learn.org. See: https://github.com/scikit-learn/scikit-learn/issues/21755 */display: inline-block !important;position: relative;}#sk-container-id-2 div.sk-text-repr-fallback {display: none;}</style><div id=\"sk-container-id-2\" class=\"sk-top-container\"><div class=\"sk-text-repr-fallback\"><pre>SGDRegressor(eta0=0.001, max_iter=5000, verbose=1)</pre><b>In a Jupyter environment, please rerun this cell to show the HTML representation or trust the notebook. <br />On GitHub, the HTML representation is unable to render, please try loading this page with nbviewer.org.</b></div><div class=\"sk-container\" hidden><div class=\"sk-item\"><div class=\"sk-estimator sk-toggleable\"><input class=\"sk-toggleable__control sk-hidden--visually\" id=\"sk-estimator-id-2\" type=\"checkbox\" checked><label for=\"sk-estimator-id-2\" class=\"sk-toggleable__label sk-toggleable__label-arrow\">SGDRegressor</label><div class=\"sk-toggleable__content\"><pre>SGDRegressor(eta0=0.001, max_iter=5000, verbose=1)</pre></div></div></div></div></div>"
      ],
      "text/plain": [
       "SGDRegressor(eta0=0.001, max_iter=5000, verbose=1)"
      ]
     },
     "execution_count": 14,
     "metadata": {},
     "output_type": "execute_result"
    }
   ],
   "source": [
    "from sklearn.linear_model import SGDRegressor\n",
    "\n",
    "# 모델생성 및 하이퍼파라미터 설정\n",
    "sgd_model = SGDRegressor(max_iter=5000, # 가중치를 업데이트 반복 횟수\n",
    "                         eta0= 0.001,   # 학습률\n",
    "                         verbose = 1    # 학습하는 과정을 확인\n",
    "                         )\n",
    "\n",
    "# 학습\n",
    "sgd_model.fit(data[['시간']],data['성적'])"
   ]
  },
  {
   "cell_type": "code",
   "execution_count": 15,
   "metadata": {},
   "outputs": [
    {
     "name": "stderr",
     "output_type": "stream",
     "text": [
      "c:\\Users\\smhrd\\AppData\\Local\\Programs\\Python\\Python311\\Lib\\site-packages\\sklearn\\base.py:465: UserWarning: X does not have valid feature names, but SGDRegressor was fitted with feature names\n",
      "  warnings.warn(\n"
     ]
    },
    {
     "data": {
      "text/plain": [
       "array([69.88669228])"
      ]
     },
     "execution_count": 15,
     "metadata": {},
     "output_type": "execute_result"
    }
   ],
   "source": [
    "# 예측\n",
    "sgd_model.predict([[7]])"
   ]
  },
  {
   "cell_type": "code",
   "execution_count": 16,
   "metadata": {},
   "outputs": [
    {
     "name": "stdout",
     "output_type": "stream",
     "text": [
      "[9.79124217]\n",
      "[1.3479971]\n"
     ]
    },
    {
     "data": {
      "text/plain": [
       "array([9.79124217])"
      ]
     },
     "metadata": {},
     "output_type": "display_data"
    },
    {
     "data": {
      "text/plain": [
       "array([1.3479971])"
      ]
     },
     "metadata": {},
     "output_type": "display_data"
    }
   ],
   "source": [
    "# 가중치(w), 편향(b) 확인하기\n",
    "print(sgd_model.coef_)\n",
    "print(sgd_model.intercept_)\n",
    "\n",
    "display(sgd_model.coef_)\n",
    "display(sgd_model.intercept_)"
   ]
  },
  {
   "cell_type": "code",
   "execution_count": 17,
   "metadata": {},
   "outputs": [
    {
     "data": {
      "text/plain": [
       "0.9995375788466502"
      ]
     },
     "execution_count": 17,
     "metadata": {},
     "output_type": "execute_result"
    }
   ],
   "source": [
    "sgd_model.score(data[['시간']],data['성적'])\n",
    "# 1에 가까울수록 모델이 예측한 성능이 높다고 판단"
   ]
  },
  {
   "cell_type": "markdown",
   "metadata": {},
   "source": [
    "선형모델\n",
    "- 입력 데이터를 가장 잘 설명할 수 있는 선형함수를 구하는 것\n",
    "  (데이터에 대한 선형함수)\n",
    "  y = wx + b ==> y = w1x1 + w2x2 + .... + wpxp + b\n",
    "- 입력 데이터를 완벽하게 설명하는 것은 불가능? \n",
    "  ==> 오차가 가장 작은 선형함수찾자 : 선형모델의 개념\n",
    "- 오차 : 실제값 - 예측값 \n",
    "  오차를 그냥 더하게 되면 오차(+, -)들끼리 상쇄\n",
    "  -> 오차에서 부호(절대값, 제곱)를 없애고 오차들을 더하겠다. \n",
    "  MSE : 평균제곱오차 ==> 선형모델 \n",
    "  MSE가 가장 작은 선형함수를 최적의 선형함수 \n",
    "\n",
    "- MSE가 가장 작은 선형함수 찾는 방법\n",
    "  1. 수학적 공식을 적용한 해석적 방법 - LinearRegression\n",
    "       장점 : 한번에 최적의 선형함수를 찾겠다 --> 계산이 빠르다 \n",
    "      단점 : 공식이 완벽하지 않을 경우 잘못 찾을 수도 있음 ==> 고칠 수 없는 문제 발생\n",
    "  2. 경사하강법 - SGDRegressor\n",
    "       점진적으로 오차가 작은 선형함수를 찾아가는 방법\n",
    "      ==> 오차를 수정하는 방향으로 그래프를 다시 그려줌 \n",
    "      장점 : 잘 못 찾았을 경우 수정이 가능\n",
    "      단점 : 점진적으로 찾아가기때문에 계산량이 많음 --> 시간이 오래걸림\n",
    "      학습율(learning rate) - eta0\n",
    "      - 너무 크게 설정 : 오차가 커져서 발산\n",
    "      - 너무 작게 설정 : 국소지역점에 빠져서 최적의 해를 찾지 못함 "
   ]
  },
  {
   "cell_type": "code",
   "execution_count": null,
   "metadata": {},
   "outputs": [],
   "source": []
  },
  {
   "cell_type": "code",
   "execution_count": null,
   "metadata": {},
   "outputs": [],
   "source": []
  },
  {
   "cell_type": "code",
   "execution_count": null,
   "metadata": {},
   "outputs": [],
   "source": []
  },
  {
   "cell_type": "code",
   "execution_count": null,
   "metadata": {},
   "outputs": [],
   "source": []
  }
 ],
 "metadata": {
  "kernelspec": {
   "display_name": "Python 3",
   "language": "python",
   "name": "python3"
  },
  "language_info": {
   "codemirror_mode": {
    "name": "ipython",
    "version": 3
   },
   "file_extension": ".py",
   "mimetype": "text/x-python",
   "name": "python",
   "nbconvert_exporter": "python",
   "pygments_lexer": "ipython3",
   "version": "3.11.4"
  }
 },
 "nbformat": 4,
 "nbformat_minor": 2
}
